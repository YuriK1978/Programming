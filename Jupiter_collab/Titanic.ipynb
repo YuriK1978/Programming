{
  "nbformat": 4,
  "nbformat_minor": 0,
  "metadata": {
    "colab": {
      "provenance": [],
      "private_outputs": true
    },
    "kernelspec": {
      "name": "python3",
      "display_name": "Python 3"
    },
    "language_info": {
      "name": "python"
    }
  },
  "cells": [
    {
      "cell_type": "code",
      "metadata": {
        "id": "e9Um04LzCPFs"
      },
      "source": [
        "import os\n",
        "from google.colab import drive"
      ],
      "execution_count": null,
      "outputs": []
    },
    {
      "cell_type": "code",
      "metadata": {
        "id": "iMSP3pDu_2oh"
      },
      "source": [
        "gdrive_dir = '/content/drive/'\n",
        "\n",
        "drive.mount(gdrive_dir, force_remount=True)"
      ],
      "execution_count": null,
      "outputs": []
    },
    {
      "cell_type": "code",
      "metadata": {
        "id": "ty22RN88_89t"
      },
      "source": [
        "for dirname, _, filenames in os.walk('/content/drive/MyDrive/Colab Notebooks/IntroductionToML/Data'):\n",
        "    for filename in filenames:\n",
        "        print(os.path.join(dirname, filename))"
      ],
      "execution_count": null,
      "outputs": []
    },
    {
      "cell_type": "code",
      "metadata": {
        "id": "5mYx4eGf_9fP"
      },
      "source": [
        "# Import the libraries\n",
        "import pandas as pd\n",
        "import numpy as np\n",
        "import matplotlib.pyplot as plt\n",
        "import seaborn as sns"
      ],
      "execution_count": null,
      "outputs": []
    },
    {
      "cell_type": "code",
      "metadata": {
        "id": "UJRYYQL_Abfh"
      },
      "source": [
        "# Import the dataset\n",
        "train_df = pd.read_csv('/content/drive/MyDrive/Colab Notebooks/IntroductionToML/Data/TitanicDataset/train.csv')\n",
        "test_df = pd.read_csv('/content/drive/MyDrive/Colab Notebooks/IntroductionToML/Data/TitanicDataset/test.csv')"
      ],
      "execution_count": null,
      "outputs": []
    },
    {
      "cell_type": "code",
      "metadata": {
        "id": "MAbfRkahAdyS"
      },
      "source": [
        "#Peek at the data\n",
        "train_df.head()"
      ],
      "execution_count": null,
      "outputs": []
    },
    {
      "cell_type": "code",
      "metadata": {
        "id": "1cpNpfTDE-bv"
      },
      "source": [
        "# Drop all categorical features\n",
        "cat_feat = ['PassengerId', 'Name', 'Sex', 'Ticket', 'Cabin', 'Embarked']\n",
        "train_df.drop(cat_feat, axis=1, inplace=True)\n",
        "train_df.head()"
      ],
      "execution_count": null,
      "outputs": []
    },
    {
      "cell_type": "code",
      "metadata": {
        "id": "iyxqefzIFkc8"
      },
      "source": [
        "train_df.describe()"
      ],
      "execution_count": null,
      "outputs": []
    },
    {
      "cell_type": "code",
      "metadata": {
        "id": "ZUzkEbPyHA6r"
      },
      "source": [
        "train_df.groupby('Survived').mean()"
      ],
      "execution_count": null,
      "outputs": []
    },
    {
      "cell_type": "code",
      "metadata": {
        "id": "UAxHV8I0KpqD"
      },
      "source": [
        "train_df.groupby(train_df['Age'].isnull()).mean()"
      ],
      "execution_count": null,
      "outputs": []
    },
    {
      "cell_type": "markdown",
      "metadata": {
        "id": "dwPywMoGO2WC"
      },
      "source": [
        "## Plot Continuous Features\n"
      ]
    },
    {
      "cell_type": "code",
      "metadata": {
        "id": "CJhfG3hdNcXx"
      },
      "source": [
        "for i in ['Age', 'Fare']:\n",
        "  died = list(train_df[train_df['Survived'] == 0][i].dropna())\n",
        "  survived = list(train_df[train_df['Survived'] == 1][i].dropna())\n",
        "  xmin = min(min(died), min(survived))\n",
        "  xmax = max(max(died), max(survived))\n",
        "  width = (xmax - xmin) / 40\n",
        "  sns.distplot(died, color='r', kde=False, bins=np.arange(xmin, xmax, width))\n",
        "  sns.distplot(survived, color='g', kde=False, bins=np.arange(xmin, xmax, width))\n",
        "  plt.legend(['Did not survive', 'Survived'])\n",
        "  plt.title('Overlaid histogram for {}'.format(i))\n",
        "  plt.show()"
      ],
      "execution_count": null,
      "outputs": []
    },
    {
      "cell_type": "code",
      "metadata": {
        "id": "Hnwb7vPV8iMz"
      },
      "source": [
        "for i, col in enumerate(['Pclass', 'SibSp', 'Parch']):\n",
        "  plt.figure(i)\n",
        "  sns.catplot(x=col, y='Survived', data=train_df, kind='point', aspect=2,)"
      ],
      "execution_count": null,
      "outputs": []
    },
    {
      "cell_type": "code",
      "metadata": {
        "id": "1476py6d84Yn"
      },
      "source": [
        "train_df['family'] = train_df['SibSp'] + train_df['Parch']\n",
        "sns.catplot(x='family', y='Survived', data=train_df, kind='point', aspect=2,)"
      ],
      "execution_count": null,
      "outputs": []
    },
    {
      "cell_type": "code",
      "metadata": {
        "id": "WV8D_d09CBLr"
      },
      "source": [
        "train_df.isnull().sum()"
      ],
      "execution_count": null,
      "outputs": []
    },
    {
      "cell_type": "code",
      "metadata": {
        "id": "eNo1ItfSDKor"
      },
      "source": [
        "train_df['Age'].fillna(train_df['Age'].mean(), inplace=True)\n",
        "train_df.isnull().sum()"
      ],
      "execution_count": null,
      "outputs": []
    },
    {
      "cell_type": "code",
      "metadata": {
        "id": "df-O9gK6DY09"
      },
      "source": [
        "train_df.head(10)"
      ],
      "execution_count": null,
      "outputs": []
    },
    {
      "cell_type": "code",
      "metadata": {
        "id": "jEwliOCNEZoP"
      },
      "source": [
        "train_df.drop(['SibSp', 'Parch'], axis=1, inplace=True)\n"
      ],
      "execution_count": null,
      "outputs": []
    },
    {
      "cell_type": "code",
      "metadata": {
        "id": "CBCLW8lME7J9"
      },
      "source": [
        "train_df.head()"
      ],
      "execution_count": null,
      "outputs": []
    }
  ]
}